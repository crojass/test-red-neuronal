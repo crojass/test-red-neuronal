{
  "nbformat": 4,
  "nbformat_minor": 0,
  "metadata": {
    "colab": {
      "private_outputs": true,
      "provenance": [],
      "authorship_tag": "ABX9TyMnO0VSooAqkCve8AauDHLr",
      "include_colab_link": true
    },
    "kernelspec": {
      "name": "python3",
      "display_name": "Python 3"
    },
    "language_info": {
      "name": "python"
    }
  },
  "cells": [
    {
      "cell_type": "markdown",
      "metadata": {
        "id": "view-in-github",
        "colab_type": "text"
      },
      "source": [
        "<a href=\"https://colab.research.google.com/github/crojass/test-red-neuronal/blob/main/Primera_red_neuronal.ipynb\" target=\"_parent\"><img src=\"https://colab.research.google.com/assets/colab-badge.svg\" alt=\"Open In Colab\"/></a>"
      ]
    },
    {
      "cell_type": "code",
      "execution_count": null,
      "metadata": {
        "id": "XwcejapMmqTM"
      },
      "outputs": [],
      "source": [
        " import tensorflow as tf\n",
        " import numpy as np"
      ]
    },
    {
      "cell_type": "code",
      "source": [
        "celsius = np.array([-40,-10,0,9,15,22,38], dtype=float)\n",
        "fahrenheit = np.array([-40,14,32,46,59,72,100], dtype=float)"
      ],
      "metadata": {
        "id": "iTEFespd_6DG"
      },
      "execution_count": null,
      "outputs": []
    },
    {
      "cell_type": "code",
      "source": [
        "capa = tf.keras.layers.Dense(units=1, input_shape=[1])\n",
        "#input shape indica la cantidad neuronas\n",
        "modelo = tf.keras.Sequential([capa])\n"
      ],
      "metadata": {
        "id": "C5KU_VNhAlkz"
      },
      "execution_count": null,
      "outputs": []
    },
    {
      "cell_type": "markdown",
      "source": [],
      "metadata": {
        "id": "UVk4J_r1VK-H"
      }
    },
    {
      "cell_type": "code",
      "source": [
        "modelo.compile(\n",
        "    optimizer=tf.keras.optimizers.Adam(0.1),\n",
        "    loss='mean_squared_error'\n",
        ")\n",
        "#Adam es la funcion de aprendizaje"
      ],
      "metadata": {
        "id": "EE7R6lnABQfM"
      },
      "execution_count": null,
      "outputs": []
    },
    {
      "cell_type": "code",
      "source": [
        "print('entrando modelo')\n",
        "historial = modelo.fit(celsius, fahrenheit, epochs=1000)\n",
        "print('listo')"
      ],
      "metadata": {
        "id": "Z5_ZpSJPU-bj"
      },
      "execution_count": null,
      "outputs": []
    },
    {
      "cell_type": "code",
      "source": [
        "import matplotlib.pyplot as plt\n",
        "plt.xlabel('# Epoca')\n",
        "plt.ylabel('Magnitud de pérdida')\n",
        "plt.plot(historial.history['loss'])"
      ],
      "metadata": {
        "id": "eIm3RWcVbRqH"
      },
      "execution_count": null,
      "outputs": []
    },
    {
      "cell_type": "code",
      "source": [
        "#inicio de la predicción\n",
        "\n",
        "resultado = modelo.predict([100.0]).round()\n",
        "\n",
        "print('El resultado es '+str(resultado)+' Fahrenheit')\n",
        "\n"
      ],
      "metadata": {
        "id": "D-BZ6UnucndC"
      },
      "execution_count": null,
      "outputs": []
    },
    {
      "cell_type": "code",
      "source": [
        "print('Variables internas del modelo')\n",
        "print(capa.get_weights())"
      ],
      "metadata": {
        "id": "YujfMK9eepXo"
      },
      "execution_count": null,
      "outputs": []
    }
  ]
}